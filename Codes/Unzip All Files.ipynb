{
 "cells": [
  {
   "cell_type": "code",
   "execution_count": 2,
   "metadata": {},
   "outputs": [
    {
     "name": "stdout",
     "output_type": "stream",
     "text": [
      "Unzipping 180a58a7-8e33-41cf-a09f-4f12fa2e4e7e.zip...\n",
      "Extracted to C:/Users/CHENAL/OneDrive - C.H. Robinson/Desktop/Emoro Data\n",
      "Unzipping 1db0c986-f3f5-427a-8145-d0d3978f5b5b.zip...\n",
      "Extracted to C:/Users/CHENAL/OneDrive - C.H. Robinson/Desktop/Emoro Data\n",
      "Unzipping 31ed67af-13c0-441e-9247-4a74ef81dd73.zip...\n",
      "Extracted to C:/Users/CHENAL/OneDrive - C.H. Robinson/Desktop/Emoro Data\n",
      "Unzipping 5398c0ff-a1b2-475a-b6f0-b49d35f4d7ef.zip...\n",
      "Extracted to C:/Users/CHENAL/OneDrive - C.H. Robinson/Desktop/Emoro Data\n",
      "Unzipping 5e7d9901-bc2a-403c-8f08-f655ea9741ff.zip...\n",
      "Extracted to C:/Users/CHENAL/OneDrive - C.H. Robinson/Desktop/Emoro Data\n",
      "Unzipping 65981632-63fb-40e6-a08c-16c24569eb62.zip...\n",
      "Extracted to C:/Users/CHENAL/OneDrive - C.H. Robinson/Desktop/Emoro Data\n",
      "Unzipping 90b787d0-0857-4cde-969c-11b5e5f5f1cb.zip...\n",
      "Extracted to C:/Users/CHENAL/OneDrive - C.H. Robinson/Desktop/Emoro Data\n",
      "Unzipping 91b2357d-ec26-4f1f-aaec-a160220d5d4b.zip...\n",
      "Extracted to C:/Users/CHENAL/OneDrive - C.H. Robinson/Desktop/Emoro Data\n",
      "Unzipping a2d342e1-20c3-494a-8be3-8ee361929dd1.zip...\n",
      "Extracted to C:/Users/CHENAL/OneDrive - C.H. Robinson/Desktop/Emoro Data\n",
      "Unzipping b78c9755-3a0b-47e9-b30a-438e88b4908f.zip...\n",
      "Extracted to C:/Users/CHENAL/OneDrive - C.H. Robinson/Desktop/Emoro Data\n",
      "Unzipping bdd0aa00-7ef2-447f-81d0-dc02176943a3.zip...\n",
      "Extracted to C:/Users/CHENAL/OneDrive - C.H. Robinson/Desktop/Emoro Data\n",
      "Unzipping c6432f85-7abb-49c1-93d6-1568f7e3d8d7.zip...\n",
      "Extracted to C:/Users/CHENAL/OneDrive - C.H. Robinson/Desktop/Emoro Data\n"
     ]
    }
   ],
   "source": [
    "import os\n",
    "import zipfile\n",
    "\n",
    "def unzip_all_in_folder(source_folder, output_folder=None):\n",
    "    \"\"\"\n",
    "    Unzip all zip files found in the given source folder.\n",
    "    \n",
    "    :param source_folder: The folder to search for zip files.\n",
    "    :param output_folder: The folder to extract the zip files into. If None, each zip file is extracted\n",
    "                          into a folder with the same name as the zip file, within the source folder.\n",
    "    \"\"\"\n",
    "    # Iterate through all files in the source folder\n",
    "    for file_name in os.listdir(source_folder):\n",
    "        # Construct the full file path\n",
    "        file_path = os.path.join(source_folder, file_name)\n",
    "        \n",
    "        # Check if the file is a zip file\n",
    "        if zipfile.is_zipfile(file_path):\n",
    "            print(f\"Unzipping {file_name}...\")\n",
    "            \n",
    "            # Open the zip file\n",
    "            with zipfile.ZipFile(file_path, 'r') as zip_ref:\n",
    "                # If output_folder is specified, use it; otherwise, create a new folder for this zip file\n",
    "                if output_folder:\n",
    "                    extract_path = output_folder\n",
    "                else:\n",
    "                    # Create a folder with the zip file's name (without extension)\n",
    "                    extract_folder = os.path.splitext(file_name)[0]\n",
    "                    extract_path = os.path.join(source_folder, extract_folder)\n",
    "                    os.makedirs(extract_path, exist_ok=True)\n",
    "                \n",
    "                # Extract all the contents\n",
    "                zip_ref.extractall(extract_path)\n",
    "                \n",
    "            print(f\"Extracted to {extract_path}\")\n",
    "\n",
    "# Example usage\n",
    "source_folder = \"C:/Users/CHENAL/OneDrive - C.H. Robinson/Desktop/Emoro Data\"  # Update this to your source folder path\n",
    "\n",
    "output_folder = \"C:/Users/CHENAL/OneDrive - C.H. Robinson/Desktop/Emoro Data\" # Optional: update this to your desired output folder path, or leave as None\n",
    "\n",
    "# Call the function\n",
    "unzip_all_in_folder(source_folder, output_folder)\n"
   ]
  }
 ],
 "metadata": {
  "kernelspec": {
   "display_name": "Python 3",
   "language": "python",
   "name": "python3"
  },
  "language_info": {
   "codemirror_mode": {
    "name": "ipython",
    "version": 3
   },
   "file_extension": ".py",
   "mimetype": "text/x-python",
   "name": "python",
   "nbconvert_exporter": "python",
   "pygments_lexer": "ipython3",
   "version": "3.11.2"
  }
 },
 "nbformat": 4,
 "nbformat_minor": 2
}
