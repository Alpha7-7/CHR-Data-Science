{
 "cells": [
  {
   "cell_type": "code",
   "execution_count": 1,
   "metadata": {},
   "outputs": [
    {
     "name": "stdout",
     "output_type": "stream",
     "text": [
      "Extracted contents from reratingReport_3827.zip to C:/Users/CHENAL/OneDrive - C.H. Robinson/GitHub/CHR-Data-Science/Data\\extracted\n",
      "Extracted contents from reratingReport_3828.zip to C:/Users/CHENAL/OneDrive - C.H. Robinson/GitHub/CHR-Data-Science/Data\\extracted\n",
      "Extracted contents from reratingReport_3829.zip to C:/Users/CHENAL/OneDrive - C.H. Robinson/GitHub/CHR-Data-Science/Data\\extracted\n",
      "Extracted contents from reratingReport_3830.zip to C:/Users/CHENAL/OneDrive - C.H. Robinson/GitHub/CHR-Data-Science/Data\\extracted\n",
      "Extracted contents from reratingReport_3831.zip to C:/Users/CHENAL/OneDrive - C.H. Robinson/GitHub/CHR-Data-Science/Data\\extracted\n",
      "Extracted contents from reratingReport_3832.zip to C:/Users/CHENAL/OneDrive - C.H. Robinson/GitHub/CHR-Data-Science/Data\\extracted\n",
      "Extracted contents from reratingReport_3833.zip to C:/Users/CHENAL/OneDrive - C.H. Robinson/GitHub/CHR-Data-Science/Data\\extracted\n",
      "Extracted contents from reratingReport_3834.zip to C:/Users/CHENAL/OneDrive - C.H. Robinson/GitHub/CHR-Data-Science/Data\\extracted\n",
      "Extracted contents from reratingReport_3835.zip to C:/Users/CHENAL/OneDrive - C.H. Robinson/GitHub/CHR-Data-Science/Data\\extracted\n",
      "Extracted contents from reratingReport_3836.zip to C:/Users/CHENAL/OneDrive - C.H. Robinson/GitHub/CHR-Data-Science/Data\\extracted\n",
      "Combined data with summary and individual files saved to C:/Users/CHENAL/OneDrive - C.H. Robinson/GitHub/CHR-Data-Science/Data\\Summarized Analysis.xlsx\n"
     ]
    }
   ],
   "source": [
    "import os\n",
    "import re\n",
    "import pandas as pd\n",
    "import zipfile\n",
    "\n",
    "Analysis_name = \"Summarized Analysis.xlsx\"\n",
    "# Replace 'your_folder_path' with the path to the folder containing the zipped files\n",
    "folder_path = 'C:/Users/CHENAL/OneDrive - C.H. Robinson/GitHub/CHR-Data-Science/Data'\n",
    "\n",
    "# List all files in the folder\n",
    "files = os.listdir(folder_path)\n",
    "\n",
    "# Initialize a DataFrame to store summarized data for all files\n",
    "summarized_data = pd.DataFrame(columns=[\"Name of the file\", \"Current Normalized Service\", \"Counts of Normalized Service\", \"Current Total Cost\", \"Proposed Total Cost\"])\n",
    "\n",
    "# Extract zipped files\n",
    "for file in files:\n",
    "    file_path = os.path.join(folder_path, file)\n",
    "    \n",
    "    # Check if the file is a zip file\n",
    "    if file.endswith('.zip'):\n",
    "        # Create a folder to extract the contents into (replace 'extracted' with your desired folder name)\n",
    "        extract_folder = os.path.join(folder_path, 'extracted')\n",
    "        os.makedirs(extract_folder, exist_ok=True)\n",
    "        \n",
    "        # Extract the contents of the zip file\n",
    "        with zipfile.ZipFile(file_path, 'r') as zip_ref:\n",
    "            zip_ref.extractall(extract_folder)\n",
    "            \n",
    "        print(f\"Extracted contents from {file} to {extract_folder}\")\n",
    "\n",
    "# List all files in the extracted folder\n",
    "extracted_files = os.listdir(extract_folder)\n",
    "\n",
    "# Filter files with the specified name pattern\n",
    "pattern = re.compile(r'Modeling_Details_(\\d{4})\\.csv')\n",
    "matching_files = [file for file in extracted_files if pattern.match(file)]\n",
    "\n",
    "# Check if there are matching files\n",
    "if not matching_files:\n",
    "    print(\"No matching files found.\")\n",
    "else:\n",
    "    # Create an Excel writer for the output file\n",
    "    excel_output_path = os.path.join(folder_path, Analysis_name)\n",
    "    writer = pd.ExcelWriter(excel_output_path, engine='xlsxwriter')\n",
    "\n",
    "    # Read each CSV file, store summarized data for all files, and add them as separate Excel tabs\n",
    "    for file in matching_files:\n",
    "        file_path = os.path.join(extract_folder, file)\n",
    "        df = pd.read_csv(file_path, delimiter=',')  # Explicitly specify the delimiter\n",
    "        \n",
    "        # Sum up the Current Total Cost and Proposed Total Cost for each normalized service\n",
    "        summary = df.groupby(\"Current Normalized Service\")[[\"Current Total Cost\", \"Proposed Total Cost\"]].sum().reset_index()\n",
    "        summary[\"Counts of Normalized Service\"] = summary[\"Current Normalized Service\"].map(df[\"Current Normalized Service\"].value_counts())\n",
    "        summary[\"Name of the file\"] = file\n",
    "        summarized_data = pd.concat([summarized_data, summary], ignore_index=True)\n",
    "        \n",
    "        # Add the file's data as a separate Excel tab\n",
    "        df.to_excel(writer, sheet_name=file, index=False)\n",
    "\n",
    "    # Add the summarized data as a separate Excel tab\n",
    "    summarized_data.to_excel(writer, sheet_name='Summarized Analysis', index=False)\n",
    "\n",
    "    writer.close()\n",
    "print(f\"Combined data with summary and individual files saved to {excel_output_path}\")"
   ]
  }
 ],
 "metadata": {
  "kernelspec": {
   "display_name": "Python 3",
   "language": "python",
   "name": "python3"
  },
  "language_info": {
   "codemirror_mode": {
    "name": "ipython",
    "version": 3
   },
   "file_extension": ".py",
   "mimetype": "text/x-python",
   "name": "python",
   "nbconvert_exporter": "python",
   "pygments_lexer": "ipython3",
   "version": "3.11.2"
  }
 },
 "nbformat": 4,
 "nbformat_minor": 2
}
